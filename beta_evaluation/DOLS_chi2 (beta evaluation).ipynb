{
 "cells": [
  {
   "cell_type": "code",
   "execution_count": 1,
   "metadata": {},
   "outputs": [],
   "source": [
    "import numpy as np\n",
    "import math\n",
    "from sympy import *\n",
    "from scipy import integrate\n",
    "import matplotlib.pyplot as plt\n",
    "import random\n",
    "import time"
   ]
  },
  {
   "cell_type": "code",
   "execution_count": 2,
   "metadata": {},
   "outputs": [],
   "source": [
    "def chi2(p,q,r,s,t,u):\n",
    "    stat = 0\n",
    "    R = p+r+t; S = q+s+u; n = R+S\n",
    "    if R == 0 or S == 0:\n",
    "        return stat\n",
    "    else:\n",
    "        if p+q != 0:\n",
    "            stat += ((n*p - (p+q)*R)**2)/((p+q)*R*S)\n",
    "        if r+s != 0:\n",
    "            stat += ((n*r - (r+s)*R)**2)/((r+s)*R*S)\n",
    "        if t+u != 0:\n",
    "            stat += ((n*t - (t+u)*R)**2)/((t+u)*R*S)\n",
    "        return stat"
   ]
  },
  {
   "cell_type": "code",
   "execution_count": 3,
   "metadata": {},
   "outputs": [],
   "source": [
    "def DOLS(p,q,r,s,t,u):\n",
    "    stat = chi2(p,q,r,s,t,u); v = np.zeros(0)\n",
    "    M = chi2(p,q,r,s,t,u); m = chi2(p,q,r,s,t,u)\n",
    "    if p >= 1 and q >= 1:\n",
    "        v = [chi2(p-1,q,r+1,s,t,u), chi2(p-1,q,r,s,t+1,u),chi2(p,q-1,r,s+1,t,u), chi2(p,q-1,r,s,t,u+1)]\n",
    "        M = max([max(v),M])\n",
    "        m = min([min(v),m])\n",
    "    if r >= 1 and s >= 1:\n",
    "        v = [chi2(p+1,q,r-1,s,t,u), chi2(p,q,r-1,s,t+1,u),chi2(p,q+1,r,s-1,t,u), chi2(p,q,r,s-1,t,u+1)]\n",
    "        M = max([max(v),M])\n",
    "        m = min([min(v),m])\n",
    "    if t >= 1 and u >= 1:\n",
    "        v = [chi2(p+1,q,r,s,t-1,u), chi2(p,q,r+1,s,t-1,u), chi2(p,q+1,r,s,t,u-1), chi2(p,q,r,s+1,t,u-1)]\n",
    "        M = max([max(v),M])\n",
    "        m = min([min(v),m])\n",
    "    \n",
    "    dolsp = M-stat; dolsn = stat-m\n",
    "    return dolsp, dolsn"
   ]
  },
  {
   "cell_type": "code",
   "execution_count": 4,
   "metadata": {},
   "outputs": [],
   "source": [
    "def DOLS_all(n):\n",
    "    dolsp = np.zeros((int(n/2)+1,int(n/2)+1,int(n/2)+1,int(n/2)+1)); dolsn = np.zeros((int(n/2)+1,int(n/2)+1,int(n/2)+1,int(n/2)+1))\n",
    "    for p in range(int(n/2)+1):\n",
    "        for q in range(int(n/2)+1):\n",
    "            for r in range(int(n/2)-p+1):\n",
    "                for s in range(int(n/2)-q+1):\n",
    "                    t = int(n/2)-p-r\n",
    "                    u = int(n/2)-q-s\n",
    "                    if p+q >= 1 and r+s >= 1 and t+u >= 1:\n",
    "                        dolsp[p][q][r][s], dolsn[p][q][r][s] = DOLS(p,q,r,s,t,u)\n",
    "    return dolsp, dolsn"
   ]
  },
  {
   "cell_type": "code",
   "execution_count": 5,
   "metadata": {},
   "outputs": [],
   "source": [
    "def S(n): #max(LS(x')/LS(x)) (LS(x) != 0)\n",
    "    dolsp,dolsn = DOLS_all(n)\n",
    "    \n",
    "    vp = 1; vn = 1\n",
    "    for p in range(int(n/2)+1):\n",
    "        for q in range(int(n/2)+1):\n",
    "            for r in range(int(n/2)-p+1):\n",
    "                for s in range(int(n/2)-q+1):\n",
    "                    t = int(n/2)-p-r\n",
    "                    u = int(n/2)-q-s\n",
    "                    if p+q >= 1 and r+s >= 1 and t+u >= 1:\n",
    "                        ssp = dolsp[p][q][r][s]; ssn = dolsn[p][q][r][s]\n",
    "                        if p >= 1 and q >= 1:\n",
    "                            ssp = max([dolsp[p-1][q][r+1][s], dolsp[p-1][q][r][s],\n",
    "                                       dolsp[p][q-1][r][s+1], dolsp[p][q-1][r][s], ssp])\n",
    "                            ssn = max([dolsn[p-1][q][r+1][s], dolsn[p-1][q][r][s],\n",
    "                                       dolsn[p][q-1][r][s+1], dolsn[p][q-1][r][s], ssn])\n",
    "                        if r >= 1 and s >= 1:\n",
    "                            ssp = max([dolsp[p+1][q][r-1][s], dolsp[p][q][r-1][s],\n",
    "                                       dolsp[p][q+1][r][s-1], dolsp[p][q][r][s-1], ssp])\n",
    "                            ssn = max([dolsn[p+1][q][r-1][s], dolsn[p][q][r-1][s],\n",
    "                                       dolsn[p][q+1][r][s-1], dolsn[p][q][r][s-1], ssn])\n",
    "                        if t >= 1 and u >= 1:\n",
    "                            ssp = max([dolsp[p+1][q][r][s], dolsp[p][q][r+1][s],\n",
    "                                       dolsp[p][q+1][r][s], dolsp[p][q][r][s+1], ssp])\n",
    "                            ssn = max([dolsn[p+1][q][r][s], dolsn[p][q][r+1][s],\n",
    "                                       dolsn[p][q+1][r][s], dolsn[p][q][r][s+1], ssn])\n",
    "                        if dolsp[p][q][r][s] != 0 and dolsn[p][q][r][s] != 0:\n",
    "                            vp = max([ssp/dolsp[p][q][r][s], vp])\n",
    "                            vn = max([ssn/dolsn[p][q][r][s], vn])\n",
    "\n",
    "    return vp,vn"
   ]
  },
  {
   "cell_type": "code",
   "execution_count": 6,
   "metadata": {},
   "outputs": [
    {
     "name": "stderr",
     "output_type": "stream",
     "text": [
      "The PostScript backend does not support transparency; partially transparent artists will be rendered opaque.\n",
      "The PostScript backend does not support transparency; partially transparent artists will be rendered opaque.\n"
     ]
    },
    {
     "data": {
      "image/png": "[encoded data removed]",
      "text/plain": [
       "<Figure size 432x288 with 1 Axes>"
      ]
     },
     "metadata": {
      "needs_background": "light"
     },
     "output_type": "display_data"
    }
   ],
   "source": [
    "maxRP = np.zeros(25); maxRN = np.zeros(25); index = np.zeros(25)\n",
    "\n",
    "for i in range(25):\n",
    "    maxRP[i], maxRN[i] = S(2*(i+1))\n",
    "    index[i] = 2*(i+1)\n",
    "\n",
    "fig = plt.figure()\n",
    "plt.ylim(-0.3, 14.5)\n",
    "plt.xlim(-1, 51)\n",
    "x = np.arange(6.0, 51, 0.02)\n",
    "#plt.plot(x,x/4+1.5,color=\"black\", linestyle = \"dotted\")\n",
    "plt.plot(x,(x*(x+2))/(4*(x-2)),color=\"gray\", linestyle = \"dashdot\")\n",
    "plt.plot(x,(5*(x-3)*(x-4)*(x+7))/(x*(x-5)*(x+16)),color=\"gray\", linestyle = \"dotted\")\n",
    "#plt.plot(x,((x-4)*(5*x**2+20*x-108))/(x*(x**2+12*x-76)),color=\"gray\", linestyle = \"dotted\")\n",
    "plt.plot(index, maxRP, marker=\"o\", markersize=5, color = \"red\", linestyle = \"-\", label = \"Positive Direction\")\n",
    "plt.plot(index, maxRN, marker=\"x\", markersize=5, color = \"blue\", linestyle = \"--\", label = \"Negative Direction\")\n",
    "plt.xlabel(\"$n$\", fontsize = 18)\n",
    "plt.ylabel(\"Max of $LS(x')/LS(x)$\", fontsize = 18)\n",
    "plt.legend(bbox_to_anchor=(0.49, 1.02), loc='lower center', borderaxespad=0, ncol=2, fontsize=11.5)\n",
    "fig.savefig(\"goodBeta_chi2.png\")\n",
    "fig.savefig(\"figs/goodBeta_chi2.eps\", bbox_inches=\"tight\", pad_inches=0.05)"
   ]
  },
  {
   "cell_type": "code",
   "execution_count": null,
   "metadata": {},
   "outputs": [],
   "source": []
  }
 ],
 "metadata": {
  "kernelspec": {
   "display_name": "Python 3",
   "language": "python",
   "name": "python3"
  },
  "language_info": {
   "codemirror_mode": {
    "name": "ipython",
    "version": 3
   },
   "file_extension": ".py",
   "mimetype": "text/x-python",
   "name": "python",
   "nbconvert_exporter": "python",
   "pygments_lexer": "ipython3",
   "version": "3.8.3"
  }
 },
 "nbformat": 4,
 "nbformat_minor": 4
}
