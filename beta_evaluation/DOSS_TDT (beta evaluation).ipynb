{
 "cells": [
  {
   "cell_type": "code",
   "execution_count": 1,
   "metadata": {},
   "outputs": [],
   "source": [
    "import numpy as np\n",
    "import math\n",
    "from sympy import *\n",
    "from scipy import integrate\n",
    "import matplotlib.pyplot as plt\n",
    "import random\n",
    "import time"
   ]
  },
  {
   "cell_type": "code",
   "execution_count": 2,
   "metadata": {},
   "outputs": [],
   "source": [
    "def TDT(n1,n2,n3,n4,n5,n6):\n",
    "    b = n1+n3+2*n4; c = n2+n3+2*n5\n",
    "    if b +c == 0:\n",
    "        return 0\n",
    "    else:\n",
    "        return (b-c)**2/(b+c)"
   ]
  },
  {
   "cell_type": "code",
   "execution_count": 3,
   "metadata": {},
   "outputs": [],
   "source": [
    "def DOLS(p,q,r,s,t,u): #direction-oriented local sensitivity\n",
    "    stat = TDT(p,q,r,s,t,u); v = np.zeros(0)\n",
    "    M = TDT(p,q,r,s,t,u); m = TDT(p,q,r,s,t,u)\n",
    "    if p >= 1:\n",
    "        v = [TDT(p-1,q+1,r,s,t,u), TDT(p-1,q,r+1,s,t,u), TDT(p-1,q,r,s+1,t,u), \n",
    "             TDT(p-1,q,r,s,t+1,u), TDT(p-1,q,r,s,t,u+1)]\n",
    "        M = max([max(v),M])\n",
    "        m = min([min(v),m])\n",
    "    if q >= 1:\n",
    "        v = [TDT(p+1,q-1,r,s,t,u), TDT(p,q-1,r+1,s,t,u), TDT(p,q-1,r,s+1,t,u), \n",
    "             TDT(p,q-1,r,s,t+1,u), TDT(p,q-1,r,s,t,u+1)]\n",
    "        M = max([max(v),M])\n",
    "        m = min([min(v),m])\n",
    "    if r >= 1:\n",
    "        v = [TDT(p+1,q,r-1,s,t,u), TDT(p,q+1,r-1,s,t,u), TDT(p,q,r-1,s+1,t,u), \n",
    "             TDT(p,q,r-1,s,t+1,u), TDT(p,q,r-1,s,t,u+1)]\n",
    "        M = max([max(v),M])\n",
    "        m = min([min(v),m])\n",
    "    if s >= 1:\n",
    "        v = [TDT(p+1,q,r,s-1,t,u), TDT(p,q+1,r,s-1,t,u), TDT(p,q,r+1,s-1,t,u), \n",
    "             TDT(p,q,r,s-1,t+1,u), TDT(p,q,r,s-1,t,u+1)]\n",
    "        M = max([max(v),M])\n",
    "        m = min([min(v),m])\n",
    "    if t >= 1:\n",
    "        v = [TDT(p+1,q,r,s,t-1,u), TDT(p,q+1,r,s,t-1,u), TDT(p,q,r+1,s,t-1,u), \n",
    "             TDT(p,q,r,s+1,t-1,u), TDT(p,q,r,s,t-1,u+1)]\n",
    "        M = max([max(v),M])\n",
    "        m = min([min(v),m])\n",
    "    if u >= 1:\n",
    "        v = [TDT(p+1,q,r,s,t,u-1), TDT(p,q+1,r,s,t,u-1), TDT(p,q,r+1,s,t,u-1), \n",
    "             TDT(p,q,r,s+1,t,u-1), TDT(p,q,r,s,t+1,u-1)]\n",
    "        M = max([max(v),M])\n",
    "        m = min([min(v),m])\n",
    "    \n",
    "    dolsp = M-stat; dolsn = stat-m\n",
    "    return dolsp, dolsn"
   ]
  },
  {
   "cell_type": "code",
   "execution_count": 4,
   "metadata": {},
   "outputs": [],
   "source": [
    "def DOLS_all(n):\n",
    "    dolsp = np.zeros((n+1,n+1,n+1,n+1,n+1)); dolsn = np.zeros((n+1,n+1,n+1,n+1,n+1))\n",
    "    for p in range(n+1):\n",
    "        for q in range(n-p+1):\n",
    "            for r in range(n-p-q+1):\n",
    "                for s in range(n-p-q-r+1):\n",
    "                    for t in range(n-p-q-r-s+1):\n",
    "                        u = n-p-q-r-s-t\n",
    "                        if p+2*s >= q+2*t:\n",
    "                            dolsp[p][q][r][s][t], dolsn[p][q][r][s][t] = DOLS(p,q,r,s,t,u)\n",
    "    for p in range(n+1):\n",
    "        for q in range(n-p+1):\n",
    "            for r in range(n-p-q+1):\n",
    "                for s in range(n-p-q-r+1):\n",
    "                    for t in range(n-p-q-r-s+1):\n",
    "                        u = n-p-q-r-s-t\n",
    "                        if p+2*s < q+2*t:\n",
    "                            dolsp[p][q][r][s][t] = dolsp[q][p][r][t][s]\n",
    "                            dolsn[p][q][r][s][t] = dolsn[q][p][r][t][s]\n",
    "    return dolsp, dolsn"
   ]
  },
  {
   "cell_type": "code",
   "execution_count": 5,
   "metadata": {},
   "outputs": [],
   "source": [
    "def S(n): #max(LS(x')/LS(x)) (LS(x) != 0)\n",
    "    dolsp,dolsn = DOLS_all(n)\n",
    "    vp = 1; vn = 1\n",
    "    for p in range(n+1):\n",
    "        for q in range(n-p+1):\n",
    "            for r in range(n-p-q+1):\n",
    "                for s in range(n-p-q-r+1):\n",
    "                    for t in range(n-p-q-r-s+1):\n",
    "                        u = n-p-q-r-s-t\n",
    "                        if p+2*s >= q+2*t:\n",
    "                            ssp = dolsp[p][q][r][s][t]; ssn = dolsn[p][q][r][s][t]\n",
    "                            if p >= 1:\n",
    "                                ssp = max([dolsp[p-1][q+1][r][s][t], dolsp[p-1][q][r+1][s][t], dolsp[p-1][q][r][s+1][t],\n",
    "                                          dolsp[p-1][q][r][s][t+1], dolsp[p-1][q][r][s][t], ssp])\n",
    "                                ssn = max([dolsn[p-1][q+1][r][s][t], dolsn[p-1][q][r+1][s][t], dolsn[p-1][q][r][s+1][t],\n",
    "                                          dolsn[p-1][q][r][s][t+1], dolsn[p-1][q][r][s][t], ssn])\n",
    "                            if q >= 1:\n",
    "                                ssp = max([dolsp[p+1][q-1][r][s][t], dolsp[p][q-1][r+1][s][t], dolsp[p][q][r][s+1][t],\n",
    "                                          dolsp[p][q-1][r][s][t+1], dolsp[p][q-1][r][s][t], ssp])\n",
    "                                ssn = max([dolsn[p+1][q-1][r][s][t], dolsn[p][q-1][r+1][s][t], dolsn[p][q][r][s+1][t],\n",
    "                                          dolsn[p][q-1][r][s][t+1], dolsn[p][q-1][r][s][t], ssn])\n",
    "                            if r >= 1:\n",
    "                                ssp = max([dolsp[p+1][q][r-1][s][t], dolsp[p][q+1][r-1][s][t], dolsp[p][q][r-1][s+1][t],\n",
    "                                          dolsp[p][q][r-1][s][t+1], dolsp[p][q][r-1][s][t], ssp])\n",
    "                                ssn = max([dolsn[p+1][q][r-1][s][t], dolsn[p][q+1][r-1][s][t], dolsn[p][q][r-1][s+1][t],\n",
    "                                          dolsn[p][q][r-1][s][t+1], dolsn[p][q][r-1][s][t], ssn])\n",
    "                            if s >= 1:\n",
    "                                ssp = max([dolsp[p+1][q][r][s-1][t], dolsp[p][q+1][r][s-1][t], dolsp[p][q][r+1][s-1][t],\n",
    "                                          dolsp[p][q][r][s-1][t+1], dolsp[p][q][r][s-1][t], ssp])\n",
    "                                ssn = max([dolsn[p+1][q][r][s-1][t], dolsn[p][q+1][r][s-1][t], dolsn[p][q][r+1][s-1][t],\n",
    "                                          dolsn[p][q][r][s-1][t+1], dolsn[p][q][r][s-1][t], ssn])\n",
    "                            if t >= 1:\n",
    "                                ssp = max([dolsp[p+1][q][r][s][t-1], dolsp[p][q+1][r][s][t-1], dolsp[p][q][r+1][s][t-1],\n",
    "                                          dolsp[p][q][r][s+1][t-1], dolsp[p][q][r][s][t-1], ssp])\n",
    "                                ssn = max([dolsn[p+1][q][r][s][t-1], dolsn[p][q+1][r][s][t-1], dolsn[p][q][r+1][s][t-1],\n",
    "                                          dolsn[p][q][r][s+1][t-1], dolsn[p][q][r][s][t-1], ssn])\n",
    "                            if u >= 1:\n",
    "                                ssp = max([dolsp[p+1][q][r][s][t], dolsp[p][q+1][r][s][t], dolsp[p][q][r+1][s][t],\n",
    "                                          dolsp[p][q][r][s+1][t], dolsp[p][q][r][s][t+1], ssp])\n",
    "                                ssn = max([dolsn[p+1][q][r][s][t], dolsn[p][q+1][r][s][t], dolsn[p][q][r+1][s][t],\n",
    "                                          dolsn[p][q][r][s+1][t], dolsn[p][q][r][s][t+1], ssn])\n",
    "                            if dolsp[p][q][r][s][t] != 0 and dolsn[p][q][r][s][t] != 0:\n",
    "                                vp = max([ssp/dolsp[p][q][r][s][t], vp])\n",
    "                                vn = max([ssn/dolsn[p][q][r][s][t], vn])\n",
    "    return vp,vn"
   ]
  },
  {
   "cell_type": "code",
   "execution_count": 6,
   "metadata": {},
   "outputs": [
    {
     "name": "stderr",
     "output_type": "stream",
     "text": [
      "The PostScript backend does not support transparency; partially transparent artists will be rendered opaque.\n",
      "The PostScript backend does not support transparency; partially transparent artists will be rendered opaque.\n"
     ]
    },
    {
     "data": {
      "image/png": "[encoded data removed]",
      "text/plain": [
       "<Figure size 432x288 with 1 Axes>"
      ]
     },
     "metadata": {
      "needs_background": "light"
     },
     "output_type": "display_data"
    }
   ],
   "source": [
    "maxRP = np.zeros(50); maxRN = np.zeros(50); index = np.zeros(50)\n",
    "\n",
    "for i in range(50):\n",
    "    maxRP[i], maxRN[i] = S(i+1)\n",
    "    index[i] = i+1\n",
    "\n",
    "fig = plt.figure()\n",
    "plt.ylim(-0.5, 25.5)\n",
    "plt.xlim(-1, 51)\n",
    "plt.hlines(24,-1,51,color=\"black\", linestyle = \"dashdot\")\n",
    "x = np.arange(0.1, 51, 0.02)\n",
    "plt.plot(x,8*(x-1)/x,color=\"black\", linestyle = \"dotted\")\n",
    "plt.plot(index, maxRP, marker=\"o\", markersize=5, color = \"red\", linestyle = \"-\", label = \"Positive Direction\")\n",
    "plt.plot(index, maxRN, marker=\"x\", markersize=5, color = \"blue\", linestyle = \"--\", label = \"Negative Direction\")\n",
    "plt.xlabel(\"$n$\", fontsize = 18)\n",
    "plt.ylabel(\"Max of $LS(x')/LS(x)$\", fontsize = 18)\n",
    "plt.legend(bbox_to_anchor=(0.49, 1.02), loc='lower center', borderaxespad=0, ncol=2, fontsize=11.5)\n",
    "fig.savefig(\"goodBeta_TDT.png\")\n",
    "fig.savefig(\"figs/goodBeta_TDT.eps\", bbox_inches=\"tight\", pad_inches=0.05)"
   ]
  },
  {
   "cell_type": "code",
   "execution_count": null,
   "metadata": {},
   "outputs": [],
   "source": []
  }
 ],
 "metadata": {
  "kernelspec": {
   "display_name": "Python 3",
   "language": "python",
   "name": "python3"
  },
  "language_info": {
   "codemirror_mode": {
    "name": "ipython",
    "version": 3
   },
   "file_extension": ".py",
   "mimetype": "text/x-python",
   "name": "python",
   "nbconvert_exporter": "python",
   "pygments_lexer": "ipython3",
   "version": "3.8.3"
  }
 },
 "nbformat": 4,
 "nbformat_minor": 4
}
