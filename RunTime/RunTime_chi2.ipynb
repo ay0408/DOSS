{
 "cells": [
  {
   "cell_type": "code",
   "execution_count": 1,
   "metadata": {},
   "outputs": [],
   "source": [
    "import numpy as np\n",
    "import math\n",
    "from sympy import *\n",
    "from scipy import integrate\n",
    "import matplotlib.pyplot as plt\n",
    "import random\n",
    "import time"
   ]
  },
  {
   "cell_type": "code",
   "execution_count": 2,
   "metadata": {},
   "outputs": [],
   "source": [
    "def chi2(T):\n",
    "    p = T[0]; q = T[1]; r = T[2]; s = T[3]; t = T[4]; u = T[5]\n",
    "    S = 0\n",
    "    if p+q != 0:\n",
    "        S += ((p-q)**2)/(p+q)\n",
    "    if r+s != 0:\n",
    "        S += ((r-s)**2)/(r+s)\n",
    "    if t+u != 0:\n",
    "        S += ((t-u)**2)/(t+u)\n",
    "    return S"
   ]
  },
  {
   "cell_type": "code",
   "execution_count": 3,
   "metadata": {},
   "outputs": [],
   "source": [
    "def DOLS_chi2(x,n,m):\n",
    "    TG = np.zeros((m,6))\n",
    "    for i in range(m):\n",
    "        for j in range(n):\n",
    "            TG[i][int(x[j][i])] += 1\n",
    "            \n",
    "    #Step 1\n",
    "    MCP = np.zeros((m,6)); MCN = np.zeros((m,6)) #MaxChange\n",
    "    for i in range(m):\n",
    "        T = TG[i]\n",
    "        X = chi2(T); MCP[i] = np.zeros(6); MCN[i] = np.zeros(6)\n",
    "        if T[0] >= 1:\n",
    "            Y = chi2([T[0]-1, T[1], T[2]+1, T[3], T[4], T[5]])\n",
    "            MCP[i][0] = max(MCP[i][0], Y-X); MCN[i][0] = max(MCN[i][0], X-Y)\n",
    "            Y = chi2([T[0]-1, T[1], T[2], T[3], T[4]+1, T[5]])\n",
    "            MCP[i][0] = max(MCP[i][0], Y-X); MCN[i][0] = max(MCN[i][0], X-Y)\n",
    "        if T[1] >= 1:\n",
    "            Y = chi2([T[0], T[1]-1, T[2], T[3]+1, T[4], T[5]])\n",
    "            MCP[i][1] = max(MCP[i][1], Y-X); MCN[i][1] = max(MCN[i][1], X-Y)\n",
    "            Y = chi2([T[0], T[1]-1, T[2], T[3], T[4], T[5]+1])\n",
    "            MCP[i][1] = max(MCP[i][1], Y-X); MCN[i][1] = max(MCN[i][1], X-Y)\n",
    "        if T[2] >= 1:\n",
    "            Y = chi2([T[0]+1, T[1], T[2]-1, T[3], T[4], T[5]])\n",
    "            MCP[i][2] = max(MCP[i][2], Y-X); MCN[i][2] = max(MCN[i][2], X-Y)\n",
    "            Y = chi2([T[0], T[1], T[2]-1, T[3], T[4]+1, T[5]])\n",
    "            MCP[i][2] = max(MCP[i][2], Y-X); MCN[i][2] = max(MCN[i][2], X-Y)\n",
    "        if T[3] >= 1:\n",
    "            Y = chi2([T[0], T[1]+1, T[2], T[3]-1, T[4], T[5]])\n",
    "            MCP[i][3] = max(MCP[i][3], Y-X); MCN[i][3] = max(MCN[i][3], X-Y)\n",
    "            Y = chi2([T[0], T[1], T[2], T[3]-1, T[4], T[5]+1])\n",
    "            MCP[i][3] = max(MCP[i][3], Y-X); MCN[i][3] = max(MCN[i][3], X-Y)\n",
    "        if T[4] >= 1:\n",
    "            Y = chi2([T[0]+1, T[1], T[2], T[3], T[4]-1, T[5]])\n",
    "            MCP[i][4] = max(MCP[i][4], Y-X); MCN[i][4] = max(MCN[i][4], X-Y)\n",
    "            Y = chi2([T[0], T[1], T[2]+1, T[3], T[4]-1, T[5]])\n",
    "            MCP[i][4] = max(MCP[i][4], Y-X); MCN[i][4] = max(MCN[i][4], X-Y)\n",
    "        if T[5] >= 1:\n",
    "            Y = chi2([T[0], T[1]+1, T[2], T[3], T[4], T[5]-1])\n",
    "            MCP[i][5] = max(MCP[i][5], Y-X); MCN[i][5] = max(MCN[i][5], X-Y)\n",
    "            Y = chi2([T[0], T[1], T[2], T[3]+1, T[4], T[5]-1])\n",
    "            MCP[i][5] = max(MCP[i][5], Y-X); MCN[i][5] = max(MCN[i][5], X-Y)\n",
    "    \n",
    "    #Step 2\n",
    "    LSS = np.zeros(int(2**m))\n",
    "    for j in range(n):\n",
    "        LSJ = np.zeros((m,int(2**m)))\n",
    "        LSJ[0][0] = MCP[0][int(x[j][0])]; LSJ[0][1] = MCN[0][int(x[j][0])]\n",
    "        #print(LSJ[0],LSJ[1])\n",
    "        for i in range(1,m):\n",
    "            for k in range(2**i):\n",
    "                LSJ[i][2*k+0] = LSJ[i-1][k] + MCP[i][int(x[j][i])]\n",
    "                LSJ[i][2*k+1] = LSJ[i-1][k] + MCN[i][int(x[j][i])]\n",
    "        #print(LSJ)\n",
    "        for i in range(int(2**m)):\n",
    "            LSS[i] = max(LSS[i],LSJ[m-1][i])    \n",
    "        #print(LSS)\n",
    "        \n",
    "    #Step 3\n",
    "    DOLSP = np.zeros(m) #LS^{i+}\n",
    "    DOLSN = np.zeros(m) #LS^{i-}\n",
    "    \n",
    "    for j in range(m):\n",
    "        for i in range(int(2**m)):\n",
    "            if int(i/(2**(m-1-j)))%2 == 0:\n",
    "                DOLSP[j] = max(DOLSP[j], LSS[i])\n",
    "            else:\n",
    "                DOLSN[j] = max(DOLSN[j], LSS[i])\n",
    "    \n",
    "    return DOLSP, DOLSN"
   ]
  },
  {
   "cell_type": "code",
   "execution_count": 4,
   "metadata": {},
   "outputs": [],
   "source": [
    "def DOLS_chi2_original(x,n,m):\n",
    "    TG = np.zeros((m,6)); T = np.zeros((m,6))\n",
    "    for i in range(m):\n",
    "        for j in range(n):\n",
    "            TG[i][int(x[j][i])] += 1\n",
    "            T[i][int(x[j][i])] += 1\n",
    "    \n",
    "    DOLSP = np.zeros(m); DOLSN = np.zeros(m)\n",
    "    for j in range(n):\n",
    "        for i in range(m):\n",
    "            TG[i][int(x[j][i])] -= 1\n",
    "        for k in range(int(3**m)):\n",
    "            for i in range(m):\n",
    "                TG[i][2*(int(k/(3**i))%3)+(int(x[j][i])%2)] += 1\n",
    "            for i in range(m):\n",
    "                C = 0\n",
    "                for l in range(m):\n",
    "                    if l != i:\n",
    "                        C += math.fabs(chi2(T[l]) - chi2(TG[l]))\n",
    "                DOLSP[i] = max(DOLSP[i], C + chi2(TG[i]) - chi2(T[i]))\n",
    "                DOLSN[i] = max(DOLSN[i], C + chi2(T[i]) - chi2(TG[i]))\n",
    "            for i in range(m):\n",
    "                TG[i][2*(int(k/(3**i))%3)+(int(x[j][i])%2)] -= 1\n",
    "        for i in range(m):\n",
    "            TG[i][int(x[j][i])] += 1\n",
    "    \n",
    "    return DOLSP, DOLSN"
   ]
  },
  {
   "cell_type": "code",
   "execution_count": 5,
   "metadata": {},
   "outputs": [
    {
     "name": "stdout",
     "output_type": "stream",
     "text": [
      "(array([5.93333333, 5.85714286, 5.93333333, 5.2       ]), array([4.86666667, 5.93333333, 5.85714286, 5.93333333]))\n",
      "(array([5.93333333, 5.85714286, 5.93333333, 5.2       ]), array([4.86666667, 5.93333333, 5.85714286, 5.93333333]))\n"
     ]
    }
   ],
   "source": [
    "n = 10; m = 4\n",
    "x = np.zeros((n,m))\n",
    "\n",
    "for j in range(n):\n",
    "    for i in range(m):\n",
    "        x[j][i] = random.randrange(6)\n",
    "\n",
    "print(DOLS_chi2(x,n,m))\n",
    "print(DOLS_chi2_original(x,n,m))"
   ]
  },
  {
   "cell_type": "code",
   "execution_count": 6,
   "metadata": {},
   "outputs": [
    {
     "name": "stdout",
     "output_type": "stream",
     "text": [
      "[[9.76467133e-04 1.31870937e-01]\n",
      " [1.27954483e-03 2.67976189e-01]\n",
      " [1.82218552e-03 3.96891212e-01]\n",
      " [2.34260559e-03 5.28181791e-01]\n",
      " [2.79941559e-03 6.61208439e-01]\n",
      " [3.22461128e-03 8.05902004e-01]\n",
      " [3.89547348e-03 9.42187643e-01]\n",
      " [4.18615341e-03 1.06187301e+00]\n",
      " [4.64377403e-03 1.17609305e+00]\n",
      " [5.27143478e-03 1.27268605e+00]]\n"
     ]
    },
    {
     "name": "stderr",
     "output_type": "stream",
     "text": [
      "The PostScript backend does not support transparency; partially transparent artists will be rendered opaque.\n",
      "The PostScript backend does not support transparency; partially transparent artists will be rendered opaque.\n"
     ]
    },
    {
     "data": {
      "image/png": "[encoded data removed]",
      "text/plain": [
       "<Figure size 432x288 with 1 Axes>"
      ]
     },
     "metadata": {
      "needs_background": "light"
     },
     "output_type": "display_data"
    }
   ],
   "source": [
    "m = 4\n",
    "n = [10*(i+1) for i in range(10)]\n",
    "\n",
    "rt = np.zeros((10,2))\n",
    "for k in range(5):\n",
    "    for l in range(10):\n",
    "        x = np.zeros((n[l],m))\n",
    "        for j in range(n[l]):\n",
    "            for i in range(m):\n",
    "                x[j][i] = random.randrange(6)\n",
    "        s = time.time()\n",
    "        DOLS_chi2(x,n[l],m)\n",
    "        e = time.time()\n",
    "        rt[l][0] += e-s\n",
    "        s = time.time()\n",
    "        DOLS_chi2_original(x,n[l],m)\n",
    "        e = time.time()\n",
    "        rt[l][1] += e-s\n",
    "rt /= 5\n",
    "\n",
    "print(rt)\n",
    "\n",
    "fig = plt.figure()\n",
    "plt.ylim(-0.05, max(rt[i][j] for i in range(10) for j in range(2))+0.05)\n",
    "plt.xlim(5, 105)\n",
    "plt.plot(n, rt[:,0], marker=\"o\", markersize=5, color = \"blue\", linestyle = \"-\", label = \"Algorithm 1 (Ours)\")\n",
    "plt.plot(n, rt[:,1], marker=\"h\", markersize=5, color = \"black\", linestyle = \"dashdot\", label = \"Baseline\")\n",
    "plt.xlabel(\"$n$\", fontsize = 18)\n",
    "plt.ylabel(\"Run Time (sec)\", fontsize = 18)\n",
    "plt.legend(bbox_to_anchor=(0.49, 1.02), loc='lower center', borderaxespad=0, ncol=4, fontsize=12)\n",
    "fig.savefig(\"RunTime_mFixed_chi2.png\")\n",
    "fig.savefig(\"figs/RunTime_mFixed_chi2.eps\", bbox_inches=\"tight\", pad_inches=0.05)"
   ]
  },
  {
   "cell_type": "code",
   "execution_count": 7,
   "metadata": {},
   "outputs": [
    {
     "name": "stderr",
     "output_type": "stream",
     "text": [
      "The PostScript backend does not support transparency; partially transparent artists will be rendered opaque.\n",
      "The PostScript backend does not support transparency; partially transparent artists will be rendered opaque.\n"
     ]
    },
    {
     "name": "stdout",
     "output_type": "stream",
     "text": [
      "[[1.96695328e-04 1.34487152e-03]\n",
      " [4.22286987e-04 1.02593899e-02]\n",
      " [7.79199600e-04 5.66090107e-02]\n",
      " [1.30152702e-03 2.70042419e-01]\n",
      " [2.32815742e-03 1.18561707e+00]]\n"
     ]
    },
    {
     "data": {
      "image/png": "[encoded data removed]",
      "text/plain": [
       "<Figure size 432x288 with 1 Axes>"
      ]
     },
     "metadata": {
      "needs_background": "light"
     },
     "output_type": "display_data"
    }
   ],
   "source": [
    "n = 20\n",
    "m = [1,2,3,4,5]\n",
    "\n",
    "rt = np.zeros((5,2))\n",
    "for k in range(5):\n",
    "    for l in range(5):\n",
    "        x = np.zeros((n,m[l]))\n",
    "        for j in range(n):\n",
    "            for i in range(m[l]):\n",
    "                x[j][i] = random.randrange(6)\n",
    "        s = time.time()\n",
    "        DOLS_chi2(x,n,m[l])\n",
    "        e = time.time()\n",
    "        rt[l][0] += e-s\n",
    "        s = time.time()\n",
    "        DOLS_chi2_original(x,n,m[l])\n",
    "        e = time.time()\n",
    "        rt[l][1] += e-s\n",
    "rt /= 5\n",
    "\n",
    "print(rt)\n",
    "\n",
    "fig = plt.figure()\n",
    "plt.ylim(-0.05, max(rt[i][j] for i in range(5) for j in range(2))+0.05)\n",
    "plt.xlim(0.8,5.2)\n",
    "plt.plot(m, rt[:,0], marker=\"o\", markersize=5, color = \"blue\", linestyle = \"-\", label = \"Algorithm 1 (Ours)\")\n",
    "plt.plot(m, rt[:,1], marker=\"h\", markersize=5, color = \"black\", linestyle = \"dashdot\", label = \"Baseline\")\n",
    "plt.xlabel(\"$m$\", fontsize = 18)\n",
    "plt.ylabel(\"Run Time (sec)\", fontsize = 18)\n",
    "plt.legend(bbox_to_anchor=(0.49, 1.02), loc='lower center', borderaxespad=0, ncol=4, fontsize=12)\n",
    "fig.savefig(\"RunTime_nFixed_chi2.png\")\n",
    "fig.savefig(\"figs/RunTime_nFixed_chi2.eps\", bbox_inches=\"tight\", pad_inches=0.05)"
   ]
  },
  {
   "cell_type": "code",
   "execution_count": null,
   "metadata": {},
   "outputs": [],
   "source": []
  }
 ],
 "metadata": {
  "kernelspec": {
   "display_name": "Python 3",
   "language": "python",
   "name": "python3"
  },
  "language_info": {
   "codemirror_mode": {
    "name": "ipython",
    "version": 3
   },
   "file_extension": ".py",
   "mimetype": "text/x-python",
   "name": "python",
   "nbconvert_exporter": "python",
   "pygments_lexer": "ipython3",
   "version": "3.8.3"
  }
 },
 "nbformat": 4,
 "nbformat_minor": 4
}
